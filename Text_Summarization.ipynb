{
  "cells": [
    {
      "cell_type": "markdown",
      "metadata": {
        "colab_type": "text",
        "id": "WYdMwvYn42jw"
      },
      "source": [
        "# **Text Summarization using NLP**\n",
        "\n",
        "\n",
        "**What is text summarization?**\n",
        "\n",
        "Text summarization is the process of distilling the most important information from a source text."
      ]
    },
    {
      "cell_type": "markdown",
      "metadata": {
        "colab_type": "text",
        "id": "QSmeHW7R6FEF"
      },
      "source": [
        "**Why automatic text summarization?**\n",
        "\n",
        "\n",
        "\n",
        "1.   Summaries reduce reading time.\n",
        "2.   When researching documents,summaries make the  selection process easier.\n",
        "3.   Automatic summarization improves the effectiveness of indexing.\n",
        "4.   Automatice summarization algorithms are less biased than human summarization.\n",
        "5.   Personalized summaries are useful in question-answering systems as they provied personalized information.\n",
        "6.   Using automatic or semi-automatic summarization systems enables commercial abstract services to increase the number of text documents they are able to process.\n",
        "\n",
        "\n",
        "\n"
      ]
    },
    {
      "cell_type": "markdown",
      "metadata": {
        "colab_type": "text",
        "id": "s9xxDWxC-1eM"
      },
      "source": [
        "\n",
        "\n",
        "**How to do text summarization**\n",
        "\n",
        "\n",
        "*   Text cleaning\n",
        "*   Sentence tokenization\n",
        "*   Word tokenzation\n",
        "*   Word-frequency table\n",
        "*   Summarization \n",
        " \n",
        " \n",
        "\n",
        "  **Text variable**\n",
        "\n",
        "\n",
        "\n",
        "\n",
        "\n",
        "\n"
      ]
    },
    {
      "attachments": {},
      "cell_type": "markdown",
      "metadata": {
        "colab_type": "text",
        "id": "rOfW0xVd-tWw"
      },
      "source": [
        "In the text variable, you can have any text to be summarized. For Demo purposes, An article about Global Warming is taken to be summarized."
      ]
    },
    {
      "cell_type": "code",
      "execution_count": 168,
      "metadata": {
        "colab": {},
        "colab_type": "code",
        "id": "2JqLo7pWYD1o"
      },
      "outputs": [],
      "source": [
        " text = \"\"\"\n",
        " Global warming is a phenomenon in which the average temperature of the globe rises due to increased greenhouse gas emissions. Carbon dioxide, methane, and ozone are examples of greenhouse gases that trap solar energy. Furthermore, when polar ice caps and sea ice melt, the greenhouse effect is exacerbated.\n",
        "\n",
        "The melting of the polar ice caps causes sea levels to rise. Furthermore, when polar ice caps and sea ice melt, the greenhouse effect is exacerbated. This is because ice reflects 50 to 70 percent of the sun’s rays into space, whereas solar radiation is absorbed when there is no ice. Only 6% of the sun’s radiation is reflected into space by seawater.\n",
        "\n",
        "Greenhouse gases aren’t necessarily harmful. In fact, the greenhouse effect is critical to life on the planet. The sun’s rays would be bounced back into the atmosphere without this effect, freezing the earth and making life impossible. When excessive volumes of greenhouse gases are trapped, however, catastrophic consequences emerge.\n",
        "\n",
        "There are a variety of things going on that are steadily raising the temperature. Our ice glaciers are fast disappearing due to global warming. This is incredibly detrimental to both the environment and people.\n",
        "\n",
        "Global warming will continue to accelerate as long as humans emit greenhouse gases. The implications are being felt on a much smaller scale now, but they will grow more severe in the near future. Humans have the power to save the day; all that is required is for them to grasp it. On an individual basis, energy use should be decreased.\n",
        "\n",
        "Controlling global warming is difficult; yet, it is not impossible. Identifying the problem’s cause is the first step in solving any problem. As a result, we must first comprehend the causes of global warming before moving on with solutions.\n",
        "\n",
        "Global warming has evolved into a serious issue that requires our full attention. It is occurring due to a combination of factors rather than a single cause. These factors are both natural and man-made. The emission of greenhouse gases that are unable to escape from the planet, causing the temperature to rise, is one of the natural causes.\n",
        "\n",
        "Furthermore, volcanic eruptions contribute to global warming. To put it another way, these eruptions spew masses of carbon dioxide into the atmosphere, contributing to global warming. Methane, on the other hand, is a major contributor to global warming.\n",
        "\n",
        "When everyone works together, global warming can be halted. Individuals and governments must both take initiatives toward realizing this goal. We must start by reducing greenhouse gas emissions.\n",
        "\n",
        "Carry your own cloth bag when you go shopping. Another move you can take is to minimize your consumption of power, which will reduce carbon dioxide emissions. Governments must regulate industrial waste and prohibit them from spewing dangerous gases into the atmosphere. Deforestation must be halted quickly, and tree planting promoted.\n",
        "\n",
        "Takshila learning tells you about global warming and the ways to control and take steps to control it. The mentors at Takshila learning are learned people, who encourage aspirants to be aware and put in efforts to save the environment.\n",
        " \"\"\"\n"
      ]
    },
    {
      "cell_type": "markdown",
      "metadata": {
        "colab_type": "text",
        "id": "ICuVSNbQY-dO"
      },
      "source": [
        "\n",
        "\n",
        "# Let's Get Started with SpaCy"
      ]
    },
    {
      "cell_type": "code",
      "execution_count": 169,
      "metadata": {
        "colab": {},
        "colab_type": "code",
        "id": "6Ehfk3s8ZL0b"
      },
      "outputs": [],
      "source": [
        " !pip install -U spacy\n",
        " !python -m spacy download en_core_web_sm"
      ]
    },
    {
      "cell_type": "code",
      "execution_count": 170,
      "metadata": {
        "colab": {},
        "colab_type": "code",
        "id": "gT1zyYMnZguO"
      },
      "outputs": [],
      "source": [
        "import spacy\n",
        "from spacy.lang.en.stop_words import STOP_WORDS\n",
        "from string import punctuation"
      ]
    },
    {
      "cell_type": "code",
      "execution_count": 171,
      "metadata": {
        "colab": {},
        "colab_type": "code",
        "id": "JrR_ipOKZ4Lp"
      },
      "outputs": [],
      "source": [
        "stopwords = list(STOP_WORDS)"
      ]
    },
    {
      "cell_type": "code",
      "execution_count": 172,
      "metadata": {
        "colab": {},
        "colab_type": "code",
        "id": "PrE3D0S6aC_s"
      },
      "outputs": [],
      "source": [
        "nlp = spacy.load('en_core_web_sm')"
      ]
    },
    {
      "cell_type": "code",
      "execution_count": 173,
      "metadata": {
        "colab": {},
        "colab_type": "code",
        "id": "RntMWU8DaQDm"
      },
      "outputs": [],
      "source": [
        "doc = nlp(text)"
      ]
    },
    {
      "cell_type": "code",
      "execution_count": 174,
      "metadata": {
        "colab": {
          "base_uri": "https://localhost:8080/",
          "height": 54
        },
        "colab_type": "code",
        "id": "Pqre-o8AaXRA",
        "outputId": "b300f8b7-9437-49f2-81f3-08620d946c1e"
      },
      "outputs": [
        {
          "name": "stdout",
          "output_type": "stream",
          "text": [
            "['\\n', 'Global', 'warming', 'is', 'a', 'phenomenon', 'in', 'which', 'the', 'average', 'temperature', 'of', 'the', 'globe', 'rises', 'due', 'to', 'increased', 'greenhouse', 'gas', 'emissions', '.', 'Carbon', 'dioxide', ',', 'methane', ',', 'and', 'ozone', 'are', 'examples', 'of', 'greenhouse', 'gases', 'that', 'trap', 'solar', 'energy', '.', 'Furthermore', ',', 'when', 'polar', 'ice', 'caps', 'and', 'sea', 'ice', 'melt', ',', 'the', 'greenhouse', 'effect', 'is', 'exacerbated', '.', '\\n\\n', 'The', 'melting', 'of', 'the', 'polar', 'ice', 'caps', 'causes', 'sea', 'levels', 'to', 'rise', '.', 'Furthermore', ',', 'when', 'polar', 'ice', 'caps', 'and', 'sea', 'ice', 'melt', ',', 'the', 'greenhouse', 'effect', 'is', 'exacerbated', '.', 'This', 'is', 'because', 'ice', 'reflects', '50', 'to', '70', 'percent', 'of', 'the', 'sun', '’s', 'rays', 'into', 'space', ',', 'whereas', 'solar', 'radiation', 'is', 'absorbed', 'when', 'there', 'is', 'no', 'ice', '.', 'Only', '6', '%', 'of', 'the', 'sun', '’s', 'radiation', 'is', 'reflected', 'into', 'space', 'by', 'seawater', '.', '\\n\\n', 'Greenhouse', 'gases', 'are', 'n’t', 'necessarily', 'harmful', '.', 'In', 'fact', ',', 'the', 'greenhouse', 'effect', 'is', 'critical', 'to', 'life', 'on', 'the', 'planet', '.', 'The', 'sun', '’s', 'rays', 'would', 'be', 'bounced', 'back', 'into', 'the', 'atmosphere', 'without', 'this', 'effect', ',', 'freezing', 'the', 'earth', 'and', 'making', 'life', 'impossible', '.', 'When', 'excessive', 'volumes', 'of', 'greenhouse', 'gases', 'are', 'trapped', ',', 'however', ',', 'catastrophic', 'consequences', 'emerge', '.', '\\n\\n', 'There', 'are', 'a', 'variety', 'of', 'things', 'going', 'on', 'that', 'are', 'steadily', 'raising', 'the', 'temperature', '.', 'Our', 'ice', 'glaciers', 'are', 'fast', 'disappearing', 'due', 'to', 'global', 'warming', '.', 'This', 'is', 'incredibly', 'detrimental', 'to', 'both', 'the', 'environment', 'and', 'people', '.', '\\n\\n', 'Global', 'warming', 'will', 'continue', 'to', 'accelerate', 'as', 'long', 'as', 'humans', 'emit', 'greenhouse', 'gases', '.', 'The', 'implications', 'are', 'being', 'felt', 'on', 'a', 'much', 'smaller', 'scale', 'now', ',', 'but', 'they', 'will', 'grow', 'more', 'severe', 'in', 'the', 'near', 'future', '.', 'Humans', 'have', 'the', 'power', 'to', 'save', 'the', 'day', ';', 'all', 'that', 'is', 'required', 'is', 'for', 'them', 'to', 'grasp', 'it', '.', 'On', 'an', 'individual', 'basis', ',', 'energy', 'use', 'should', 'be', 'decreased', '.', '\\n\\n', 'Controlling', 'global', 'warming', 'is', 'difficult', ';', 'yet', ',', 'it', 'is', 'not', 'impossible', '.', 'Identifying', 'the', 'problem', '’s', 'cause', 'is', 'the', 'first', 'step', 'in', 'solving', 'any', 'problem', '.', 'As', 'a', 'result', ',', 'we', 'must', 'first', 'comprehend', 'the', 'causes', 'of', 'global', 'warming', 'before', 'moving', 'on', 'with', 'solutions', '.', '\\n\\n', 'Global', 'warming', 'has', 'evolved', 'into', 'a', 'serious', 'issue', 'that', 'requires', 'our', 'full', 'attention', '.', 'It', 'is', 'occurring', 'due', 'to', 'a', 'combination', 'of', 'factors', 'rather', 'than', 'a', 'single', 'cause', '.', 'These', 'factors', 'are', 'both', 'natural', 'and', 'man', '-', 'made', '.', 'The', 'emission', 'of', 'greenhouse', 'gases', 'that', 'are', 'unable', 'to', 'escape', 'from', 'the', 'planet', ',', 'causing', 'the', 'temperature', 'to', 'rise', ',', 'is', 'one', 'of', 'the', 'natural', 'causes', '.', '\\n\\n', 'Furthermore', ',', 'volcanic', 'eruptions', 'contribute', 'to', 'global', 'warming', '.', 'To', 'put', 'it', 'another', 'way', ',', 'these', 'eruptions', 'spew', 'masses', 'of', 'carbon', 'dioxide', 'into', 'the', 'atmosphere', ',', 'contributing', 'to', 'global', 'warming', '.', 'Methane', ',', 'on', 'the', 'other', 'hand', ',', 'is', 'a', 'major', 'contributor', 'to', 'global', 'warming', '.', '\\n\\n', 'When', 'everyone', 'works', 'together', ',', 'global', 'warming', 'can', 'be', 'halted', '.', 'Individuals', 'and', 'governments', 'must', 'both', 'take', 'initiatives', 'toward', 'realizing', 'this', 'goal', '.', 'We', 'must', 'start', 'by', 'reducing', 'greenhouse', 'gas', 'emissions', '.', '\\n\\n', 'Carry', 'your', 'own', 'cloth', 'bag', 'when', 'you', 'go', 'shopping', '.', 'Another', 'move', 'you', 'can', 'take', 'is', 'to', 'minimize', 'your', 'consumption', 'of', 'power', ',', 'which', 'will', 'reduce', 'carbon', 'dioxide', 'emissions', '.', 'Governments', 'must', 'regulate', 'industrial', 'waste', 'and', 'prohibit', 'them', 'from', 'spewing', 'dangerous', 'gases', 'into', 'the', 'atmosphere', '.', 'Deforestation', 'must', 'be', 'halted', 'quickly', ',', 'and', 'tree', 'planting', 'promoted', '.', '\\n\\n', 'Takshila', 'learning', 'tells', 'you', 'about', 'global', 'warming', 'and', 'the', 'ways', 'to', 'control', 'and', 'take', 'steps', 'to', 'control', 'it', '.', 'The', 'mentors', 'at', 'Takshila', 'learning', 'are', 'learned', 'people', ',', 'who', 'encourage', 'aspirants', 'to', 'be', 'aware', 'and', 'put', 'in', 'efforts', 'to', 'save', 'the', 'environment', '.', '\\n']\n"
          ]
        }
      ],
      "source": [
        "tokens = [token.text for token in doc]\n",
        "print(tokens)"
      ]
    },
    {
      "cell_type": "code",
      "execution_count": 175,
      "metadata": {
        "colab": {
          "base_uri": "https://localhost:8080/",
          "height": 34
        },
        "colab_type": "code",
        "id": "Tn2Uv-F3HDpw",
        "outputId": "6325b5fd-cc77-4ebd-bf7f-43ca48ed905a"
      },
      "outputs": [
        {
          "data": {
            "text/plain": [
              "'!\"#$%&\\'()*+,-./:;<=>?@[\\\\]^_`{|}~\\n'"
            ]
          },
          "execution_count": 175,
          "metadata": {},
          "output_type": "execute_result"
        }
      ],
      "source": [
        "punctuation = punctuation + '\\n'\n",
        "punctuation"
      ]
    },
    {
      "cell_type": "code",
      "execution_count": 176,
      "metadata": {
        "colab": {},
        "colab_type": "code",
        "id": "huSfsmdrWK84"
      },
      "outputs": [],
      "source": [
        "word_frequencies = {}\n",
        "for word in doc:\n",
        "  if word.text.lower() not in stopwords:\n",
        "    if word.text.lower() not in punctuation:\n",
        "      if word.text not in word_frequencies.keys():\n",
        "        word_frequencies[word.text] = 1\n",
        "      else:\n",
        "        word_frequencies[word.text] += 1"
      ]
    },
    {
      "cell_type": "code",
      "execution_count": 177,
      "metadata": {
        "colab": {
          "base_uri": "https://localhost:8080/",
          "height": 54
        },
        "colab_type": "code",
        "id": "EgiBcbxFXZj2",
        "outputId": "0e337628-198e-4ac5-fd31-3ac152800854"
      },
      "outputs": [
        {
          "name": "stdout",
          "output_type": "stream",
          "text": [
            "{'Global': 3, 'warming': 11, 'phenomenon': 1, 'average': 1, 'temperature': 3, 'globe': 1, 'rises': 1, 'increased': 1, 'greenhouse': 9, 'gas': 2, 'emissions': 3, 'Carbon': 1, 'dioxide': 3, 'methane': 1, 'ozone': 1, 'examples': 1, 'gases': 6, 'trap': 1, 'solar': 2, 'energy': 2, 'Furthermore': 3, 'polar': 3, 'ice': 8, 'caps': 3, 'sea': 3, 'melt': 2, 'effect': 4, 'exacerbated': 2, '\\n\\n': 10, 'melting': 1, 'causes': 3, 'levels': 1, 'rise': 2, 'reflects': 1, '50': 1, '70': 1, 'percent': 1, 'sun': 3, 'rays': 2, 'space': 2, 'radiation': 2, 'absorbed': 1, '6': 1, 'reflected': 1, 'seawater': 1, 'Greenhouse': 1, 'necessarily': 1, 'harmful': 1, 'fact': 1, 'critical': 1, 'life': 2, 'planet': 2, 'bounced': 1, 'atmosphere': 3, 'freezing': 1, 'earth': 1, 'making': 1, 'impossible': 2, 'excessive': 1, 'volumes': 1, 'trapped': 1, 'catastrophic': 1, 'consequences': 1, 'emerge': 1, 'variety': 1, 'things': 1, 'going': 1, 'steadily': 1, 'raising': 1, 'glaciers': 1, 'fast': 1, 'disappearing': 1, 'global': 8, 'incredibly': 1, 'detrimental': 1, 'environment': 2, 'people': 2, 'continue': 1, 'accelerate': 1, 'long': 1, 'humans': 1, 'emit': 1, 'implications': 1, 'felt': 1, 'smaller': 1, 'scale': 1, 'grow': 1, 'severe': 1, 'near': 1, 'future': 1, 'Humans': 1, 'power': 2, 'save': 2, 'day': 1, 'required': 1, 'grasp': 1, 'individual': 1, 'basis': 1, 'use': 1, 'decreased': 1, 'Controlling': 1, 'difficult': 1, 'Identifying': 1, 'problem': 2, 'cause': 2, 'step': 1, 'solving': 1, 'result': 1, 'comprehend': 1, 'moving': 1, 'solutions': 1, 'evolved': 1, 'issue': 1, 'requires': 1, 'attention': 1, 'occurring': 1, 'combination': 1, 'factors': 2, 'single': 1, 'natural': 2, 'man': 1, 'emission': 1, 'unable': 1, 'escape': 1, 'causing': 1, 'volcanic': 1, 'eruptions': 2, 'contribute': 1, 'way': 1, 'spew': 1, 'masses': 1, 'carbon': 2, 'contributing': 1, 'Methane': 1, 'hand': 1, 'major': 1, 'contributor': 1, 'works': 1, 'halted': 2, 'Individuals': 1, 'governments': 1, 'initiatives': 1, 'realizing': 1, 'goal': 1, 'start': 1, 'reducing': 1, 'Carry': 1, 'cloth': 1, 'bag': 1, 'shopping': 1, 'minimize': 1, 'consumption': 1, 'reduce': 1, 'Governments': 1, 'regulate': 1, 'industrial': 1, 'waste': 1, 'prohibit': 1, 'spewing': 1, 'dangerous': 1, 'Deforestation': 1, 'quickly': 1, 'tree': 1, 'planting': 1, 'promoted': 1, 'Takshila': 2, 'learning': 2, 'tells': 1, 'ways': 1, 'control': 2, 'steps': 1, 'mentors': 1, 'learned': 1, 'encourage': 1, 'aspirants': 1, 'aware': 1, 'efforts': 1}\n"
          ]
        }
      ],
      "source": [
        "print(word_frequencies)"
      ]
    },
    {
      "cell_type": "code",
      "execution_count": 178,
      "metadata": {
        "colab": {},
        "colab_type": "code",
        "id": "59QpWTlkX6UC"
      },
      "outputs": [],
      "source": [
        "max_frequency = max(word_frequencies.values())"
      ]
    },
    {
      "cell_type": "code",
      "execution_count": 179,
      "metadata": {
        "colab": {
          "base_uri": "https://localhost:8080/",
          "height": 34
        },
        "colab_type": "code",
        "id": "oIQGF1vAYGoD",
        "outputId": "f72c0f9a-4d57-44bf-ca63-1a0fc8b87d3b"
      },
      "outputs": [
        {
          "data": {
            "text/plain": [
              "11"
            ]
          },
          "execution_count": 179,
          "metadata": {},
          "output_type": "execute_result"
        }
      ],
      "source": [
        "max_frequency"
      ]
    },
    {
      "cell_type": "code",
      "execution_count": 180,
      "metadata": {
        "colab": {},
        "colab_type": "code",
        "id": "Gx_S5rRXYX2H"
      },
      "outputs": [],
      "source": [
        "for word in word_frequencies.keys():\n",
        "  word_frequencies[word] = word_frequencies[word]/max_frequency"
      ]
    },
    {
      "cell_type": "code",
      "execution_count": 181,
      "metadata": {
        "colab": {
          "base_uri": "https://localhost:8080/",
          "height": 54
        },
        "colab_type": "code",
        "id": "H0QbAJA5YuG0",
        "outputId": "5816a67b-488e-43f5-c267-e51df1194828"
      },
      "outputs": [
        {
          "name": "stdout",
          "output_type": "stream",
          "text": [
            "{'Global': 0.2727272727272727, 'warming': 1.0, 'phenomenon': 0.09090909090909091, 'average': 0.09090909090909091, 'temperature': 0.2727272727272727, 'globe': 0.09090909090909091, 'rises': 0.09090909090909091, 'increased': 0.09090909090909091, 'greenhouse': 0.8181818181818182, 'gas': 0.18181818181818182, 'emissions': 0.2727272727272727, 'Carbon': 0.09090909090909091, 'dioxide': 0.2727272727272727, 'methane': 0.09090909090909091, 'ozone': 0.09090909090909091, 'examples': 0.09090909090909091, 'gases': 0.5454545454545454, 'trap': 0.09090909090909091, 'solar': 0.18181818181818182, 'energy': 0.18181818181818182, 'Furthermore': 0.2727272727272727, 'polar': 0.2727272727272727, 'ice': 0.7272727272727273, 'caps': 0.2727272727272727, 'sea': 0.2727272727272727, 'melt': 0.18181818181818182, 'effect': 0.36363636363636365, 'exacerbated': 0.18181818181818182, '\\n\\n': 0.9090909090909091, 'melting': 0.09090909090909091, 'causes': 0.2727272727272727, 'levels': 0.09090909090909091, 'rise': 0.18181818181818182, 'reflects': 0.09090909090909091, '50': 0.09090909090909091, '70': 0.09090909090909091, 'percent': 0.09090909090909091, 'sun': 0.2727272727272727, 'rays': 0.18181818181818182, 'space': 0.18181818181818182, 'radiation': 0.18181818181818182, 'absorbed': 0.09090909090909091, '6': 0.09090909090909091, 'reflected': 0.09090909090909091, 'seawater': 0.09090909090909091, 'Greenhouse': 0.09090909090909091, 'necessarily': 0.09090909090909091, 'harmful': 0.09090909090909091, 'fact': 0.09090909090909091, 'critical': 0.09090909090909091, 'life': 0.18181818181818182, 'planet': 0.18181818181818182, 'bounced': 0.09090909090909091, 'atmosphere': 0.2727272727272727, 'freezing': 0.09090909090909091, 'earth': 0.09090909090909091, 'making': 0.09090909090909091, 'impossible': 0.18181818181818182, 'excessive': 0.09090909090909091, 'volumes': 0.09090909090909091, 'trapped': 0.09090909090909091, 'catastrophic': 0.09090909090909091, 'consequences': 0.09090909090909091, 'emerge': 0.09090909090909091, 'variety': 0.09090909090909091, 'things': 0.09090909090909091, 'going': 0.09090909090909091, 'steadily': 0.09090909090909091, 'raising': 0.09090909090909091, 'glaciers': 0.09090909090909091, 'fast': 0.09090909090909091, 'disappearing': 0.09090909090909091, 'global': 0.7272727272727273, 'incredibly': 0.09090909090909091, 'detrimental': 0.09090909090909091, 'environment': 0.18181818181818182, 'people': 0.18181818181818182, 'continue': 0.09090909090909091, 'accelerate': 0.09090909090909091, 'long': 0.09090909090909091, 'humans': 0.09090909090909091, 'emit': 0.09090909090909091, 'implications': 0.09090909090909091, 'felt': 0.09090909090909091, 'smaller': 0.09090909090909091, 'scale': 0.09090909090909091, 'grow': 0.09090909090909091, 'severe': 0.09090909090909091, 'near': 0.09090909090909091, 'future': 0.09090909090909091, 'Humans': 0.09090909090909091, 'power': 0.18181818181818182, 'save': 0.18181818181818182, 'day': 0.09090909090909091, 'required': 0.09090909090909091, 'grasp': 0.09090909090909091, 'individual': 0.09090909090909091, 'basis': 0.09090909090909091, 'use': 0.09090909090909091, 'decreased': 0.09090909090909091, 'Controlling': 0.09090909090909091, 'difficult': 0.09090909090909091, 'Identifying': 0.09090909090909091, 'problem': 0.18181818181818182, 'cause': 0.18181818181818182, 'step': 0.09090909090909091, 'solving': 0.09090909090909091, 'result': 0.09090909090909091, 'comprehend': 0.09090909090909091, 'moving': 0.09090909090909091, 'solutions': 0.09090909090909091, 'evolved': 0.09090909090909091, 'issue': 0.09090909090909091, 'requires': 0.09090909090909091, 'attention': 0.09090909090909091, 'occurring': 0.09090909090909091, 'combination': 0.09090909090909091, 'factors': 0.18181818181818182, 'single': 0.09090909090909091, 'natural': 0.18181818181818182, 'man': 0.09090909090909091, 'emission': 0.09090909090909091, 'unable': 0.09090909090909091, 'escape': 0.09090909090909091, 'causing': 0.09090909090909091, 'volcanic': 0.09090909090909091, 'eruptions': 0.18181818181818182, 'contribute': 0.09090909090909091, 'way': 0.09090909090909091, 'spew': 0.09090909090909091, 'masses': 0.09090909090909091, 'carbon': 0.18181818181818182, 'contributing': 0.09090909090909091, 'Methane': 0.09090909090909091, 'hand': 0.09090909090909091, 'major': 0.09090909090909091, 'contributor': 0.09090909090909091, 'works': 0.09090909090909091, 'halted': 0.18181818181818182, 'Individuals': 0.09090909090909091, 'governments': 0.09090909090909091, 'initiatives': 0.09090909090909091, 'realizing': 0.09090909090909091, 'goal': 0.09090909090909091, 'start': 0.09090909090909091, 'reducing': 0.09090909090909091, 'Carry': 0.09090909090909091, 'cloth': 0.09090909090909091, 'bag': 0.09090909090909091, 'shopping': 0.09090909090909091, 'minimize': 0.09090909090909091, 'consumption': 0.09090909090909091, 'reduce': 0.09090909090909091, 'Governments': 0.09090909090909091, 'regulate': 0.09090909090909091, 'industrial': 0.09090909090909091, 'waste': 0.09090909090909091, 'prohibit': 0.09090909090909091, 'spewing': 0.09090909090909091, 'dangerous': 0.09090909090909091, 'Deforestation': 0.09090909090909091, 'quickly': 0.09090909090909091, 'tree': 0.09090909090909091, 'planting': 0.09090909090909091, 'promoted': 0.09090909090909091, 'Takshila': 0.18181818181818182, 'learning': 0.18181818181818182, 'tells': 0.09090909090909091, 'ways': 0.09090909090909091, 'control': 0.18181818181818182, 'steps': 0.09090909090909091, 'mentors': 0.09090909090909091, 'learned': 0.09090909090909091, 'encourage': 0.09090909090909091, 'aspirants': 0.09090909090909091, 'aware': 0.09090909090909091, 'efforts': 0.09090909090909091}\n"
          ]
        }
      ],
      "source": [
        "print(word_frequencies)"
      ]
    },
    {
      "cell_type": "code",
      "execution_count": 182,
      "metadata": {
        "colab": {
          "base_uri": "https://localhost:8080/",
          "height": 224
        },
        "colab_type": "code",
        "id": "d9vbQAUDZCUV",
        "outputId": "f6586585-addb-46e3-8d4f-c8e38edb5baf"
      },
      "outputs": [
        {
          "name": "stdout",
          "output_type": "stream",
          "text": [
            "[\n",
            "Global warming is a phenomenon in which the average temperature of the globe rises due to increased greenhouse gas emissions., Carbon dioxide, methane, and ozone are examples of greenhouse gases that trap solar energy., Furthermore, when polar ice caps and sea ice melt, the greenhouse effect is exacerbated.\n",
            "\n",
            ", The melting of the polar ice caps causes sea levels to rise., Furthermore, when polar ice caps and sea ice melt, the greenhouse effect is exacerbated., This is because ice reflects 50 to 70 percent of the sun’s rays into space, whereas solar radiation is absorbed when there is no ice., Only 6% of the sun’s radiation is reflected into space by seawater.\n",
            "\n",
            ", Greenhouse gases aren’t necessarily harmful., In fact, the greenhouse effect is critical to life on the planet., The sun’s rays would be bounced back into the atmosphere without this effect, freezing the earth and making life impossible., When excessive volumes of greenhouse gases are trapped, however, catastrophic consequences emerge.\n",
            "\n",
            ", There are a variety of things going on that are steadily raising the temperature., Our ice glaciers are fast disappearing due to global warming., This is incredibly detrimental to both the environment and people.\n",
            "\n",
            ", Global warming will continue to accelerate as long as humans emit greenhouse gases., The implications are being felt on a much smaller scale now, but they will grow more severe in the near future., Humans have the power to save the day; all that is required is for them to grasp it., On an individual basis, energy use should be decreased.\n",
            "\n",
            ", Controlling global warming is difficult; yet, it is not impossible., Identifying the problem’s cause is the first step in solving any problem., As a result, we must first comprehend the causes of global warming before moving on with solutions.\n",
            "\n",
            ", Global warming has evolved into a serious issue that requires our full attention., It is occurring due to a combination of factors rather than a single cause., These factors are both natural and man-made., The emission of greenhouse gases that are unable to escape from the planet, causing the temperature to rise, is one of the natural causes.\n",
            "\n",
            ", Furthermore, volcanic eruptions contribute to global warming., To put it another way, these eruptions spew masses of carbon dioxide into the atmosphere, contributing to global warming., Methane, on the other hand, is a major contributor to global warming.\n",
            "\n",
            ", When everyone works together, global warming can be halted., Individuals and governments must both take initiatives toward realizing this goal., We must start by reducing greenhouse gas emissions.\n",
            "\n",
            ", Carry your own cloth bag when you go shopping., Another move you can take is to minimize your consumption of power, which will reduce carbon dioxide emissions., Governments must regulate industrial waste and prohibit them from spewing dangerous gases into the atmosphere., Deforestation must be halted quickly, and tree planting promoted.\n",
            "\n",
            ", Takshila learning tells you about global warming and the ways to control and take steps to control it., The mentors at Takshila learning are learned people, who encourage aspirants to be aware and put in efforts to save the environment.\n",
            "]\n"
          ]
        }
      ],
      "source": [
        "sentence_tokens = [sent for sent in doc.sents]\n",
        "print(sentence_tokens)"
      ]
    },
    {
      "cell_type": "code",
      "execution_count": 183,
      "metadata": {
        "colab": {},
        "colab_type": "code",
        "id": "-3Ee54JWZk5G"
      },
      "outputs": [],
      "source": [
        "sentence_scores = {}\n",
        "for sent in sentence_tokens:\n",
        "  for word in sent:\n",
        "    if word.text.lower() in word_frequencies.keys():\n",
        "      if sent not in sentence_scores.keys():\n",
        "        sentence_scores[sent] = word_frequencies[word.text.lower()]\n",
        "      else:\n",
        "        sentence_scores[sent] += word_frequencies[word.text.lower()]\n"
      ]
    },
    {
      "cell_type": "code",
      "execution_count": 184,
      "metadata": {
        "colab": {
          "base_uri": "https://localhost:8080/",
          "height": 394
        },
        "colab_type": "code",
        "id": "eHuAYodnIg5I",
        "outputId": "5ad12dd5-1e46-4fc4-ef01-d3fd682bd359"
      },
      "outputs": [
        {
          "data": {
            "text/plain": [
              "{\n",
              " Global warming is a phenomenon in which the average temperature of the globe rises due to increased greenhouse gas emissions.: 3.7272727272727266,\n",
              " Carbon dioxide, methane, and ozone are examples of greenhouse gases that trap solar energy.: 2.545454545454545,\n",
              " Furthermore, when polar ice caps and sea ice melt, the greenhouse effect is exacerbated.\n",
              " : 4.727272727272727,\n",
              " The melting of the polar ice caps causes sea levels to rise.: 2.1818181818181817,\n",
              " Furthermore, when polar ice caps and sea ice melt, the greenhouse effect is exacerbated.: 3.818181818181818,\n",
              " This is because ice reflects 50 to 70 percent of the sun’s rays into space, whereas solar radiation is absorbed when there is no ice.: 2.909090909090909,\n",
              " Only 6% of the sun’s radiation is reflected into space by seawater.\n",
              " : 1.8181818181818181,\n",
              " Greenhouse gases aren’t necessarily harmful.: 1.5454545454545454,\n",
              " In fact, the greenhouse effect is critical to life on the planet.: 1.7272727272727275,\n",
              " The sun’s rays would be bounced back into the atmosphere without this effect, freezing the earth and making life impossible.: 1.818181818181818,\n",
              " When excessive volumes of greenhouse gases are trapped, however, catastrophic consequences emerge.\n",
              " : 2.818181818181818,\n",
              " There are a variety of things going on that are steadily raising the temperature.: 0.7272727272727273,\n",
              " Our ice glaciers are fast disappearing due to global warming.: 2.7272727272727275,\n",
              " This is incredibly detrimental to both the environment and people.\n",
              " : 1.4545454545454546,\n",
              " Global warming will continue to accelerate as long as humans emit greenhouse gases.: 3.5454545454545454,\n",
              " The implications are being felt on a much smaller scale now, but they will grow more severe in the near future.: 0.7272727272727274,\n",
              " Humans have the power to save the day; all that is required is for them to grasp it.: 0.7272727272727273,\n",
              " On an individual basis, energy use should be decreased.\n",
              " : 1.4545454545454546,\n",
              " Controlling global warming is difficult; yet, it is not impossible.: 2.0,\n",
              " Identifying the problem’s cause is the first step in solving any problem.: 0.7272727272727273,\n",
              " As a result, we must first comprehend the causes of global warming before moving on with solutions.\n",
              " : 3.2727272727272725,\n",
              " Global warming has evolved into a serious issue that requires our full attention.: 2.090909090909091,\n",
              " It is occurring due to a combination of factors rather than a single cause.: 0.6363636363636365,\n",
              " These factors are both natural and man-made.: 0.4545454545454546,\n",
              " The emission of greenhouse gases that are unable to escape from the planet, causing the temperature to rise, is one of the natural causes.\n",
              " : 3.7272727272727266,\n",
              " Furthermore, volcanic eruptions contribute to global warming.: 2.090909090909091,\n",
              " To put it another way, these eruptions spew masses of carbon dioxide into the atmosphere, contributing to global warming.: 3.0,\n",
              " Methane, on the other hand, is a major contributor to global warming.\n",
              " : 3.0,\n",
              " When everyone works together, global warming can be halted.: 2.0,\n",
              " Individuals and governments must both take initiatives toward realizing this goal.: 0.36363636363636365,\n",
              " We must start by reducing greenhouse gas emissions.\n",
              " : 2.3636363636363638,\n",
              " Carry your own cloth bag when you go shopping.: 0.2727272727272727,\n",
              " Another move you can take is to minimize your consumption of power, which will reduce carbon dioxide emissions.: 1.1818181818181819,\n",
              " Governments must regulate industrial waste and prohibit them from spewing dangerous gases into the atmosphere.: 1.4545454545454546,\n",
              " Deforestation must be halted quickly, and tree planting promoted.\n",
              " : 1.4545454545454546,\n",
              " Takshila learning tells you about global warming and the ways to control and take steps to control it.: 2.545454545454545,\n",
              " The mentors at Takshila learning are learned people, who encourage aspirants to be aware and put in efforts to save the environment.: 1.272727272727273}"
            ]
          },
          "execution_count": 184,
          "metadata": {},
          "output_type": "execute_result"
        }
      ],
      "source": [
        "sentence_scores"
      ]
    },
    {
      "cell_type": "code",
      "execution_count": 185,
      "metadata": {
        "colab": {},
        "colab_type": "code",
        "id": "-8BICcjZJCpU"
      },
      "outputs": [],
      "source": [
        "from heapq import nlargest"
      ]
    },
    {
      "cell_type": "code",
      "execution_count": 186,
      "metadata": {
        "colab": {
          "base_uri": "https://localhost:8080/",
          "height": 34
        },
        "colab_type": "code",
        "id": "n7QOpoldJTcY",
        "outputId": "0c98ff90-aff9-4ad9-edc1-602b161a5b26"
      },
      "outputs": [
        {
          "data": {
            "text/plain": [
              "11"
            ]
          },
          "execution_count": 186,
          "metadata": {},
          "output_type": "execute_result"
        }
      ],
      "source": [
        "select_length = int(len(sentence_tokens)*0.3)\n",
        "select_length"
      ]
    },
    {
      "cell_type": "code",
      "execution_count": 187,
      "metadata": {
        "colab": {},
        "colab_type": "code",
        "id": "0qYYWV82JygM"
      },
      "outputs": [],
      "source": [
        "summary = nlargest(select_length, sentence_scores, key = sentence_scores.get)"
      ]
    },
    {
      "cell_type": "code",
      "execution_count": 188,
      "metadata": {
        "colab": {
          "base_uri": "https://localhost:8080/",
          "height": 156
        },
        "colab_type": "code",
        "id": "TR5wQN6UKDrt",
        "outputId": "82a53ef6-31ab-400e-a51e-b80a7fcfb443"
      },
      "outputs": [
        {
          "data": {
            "text/plain": [
              "[Furthermore, when polar ice caps and sea ice melt, the greenhouse effect is exacerbated.\n",
              " ,\n",
              " Furthermore, when polar ice caps and sea ice melt, the greenhouse effect is exacerbated.,\n",
              " \n",
              " Global warming is a phenomenon in which the average temperature of the globe rises due to increased greenhouse gas emissions.,\n",
              " The emission of greenhouse gases that are unable to escape from the planet, causing the temperature to rise, is one of the natural causes.\n",
              " ,\n",
              " Global warming will continue to accelerate as long as humans emit greenhouse gases.,\n",
              " As a result, we must first comprehend the causes of global warming before moving on with solutions.\n",
              " ,\n",
              " To put it another way, these eruptions spew masses of carbon dioxide into the atmosphere, contributing to global warming.,\n",
              " Methane, on the other hand, is a major contributor to global warming.\n",
              " ,\n",
              " This is because ice reflects 50 to 70 percent of the sun’s rays into space, whereas solar radiation is absorbed when there is no ice.,\n",
              " When excessive volumes of greenhouse gases are trapped, however, catastrophic consequences emerge.\n",
              " ,\n",
              " Our ice glaciers are fast disappearing due to global warming.]"
            ]
          },
          "execution_count": 188,
          "metadata": {},
          "output_type": "execute_result"
        }
      ],
      "source": [
        "summary"
      ]
    },
    {
      "cell_type": "code",
      "execution_count": 189,
      "metadata": {
        "colab": {},
        "colab_type": "code",
        "id": "k3cGqkqaKWnT"
      },
      "outputs": [],
      "source": [
        "final_summary = [word.text for word in summary]"
      ]
    },
    {
      "cell_type": "code",
      "execution_count": 190,
      "metadata": {
        "colab": {},
        "colab_type": "code",
        "id": "1pw4ElbUKpMB"
      },
      "outputs": [],
      "source": [
        "summary = ' '.join(final_summary)"
      ]
    },
    {
      "cell_type": "code",
      "execution_count": 191,
      "metadata": {
        "colab": {
          "base_uri": "https://localhost:8080/",
          "height": 224
        },
        "colab_type": "code",
        "id": "Wa66EgbzLIgR",
        "outputId": "a72e4c9e-697f-4ed1-d987-3e966a6ca086"
      },
      "outputs": [
        {
          "name": "stdout",
          "output_type": "stream",
          "text": [
            "\n",
            "Global warming is a phenomenon in which the average temperature of the globe rises due to increased greenhouse gas emissions. Carbon dioxide, methane, and ozone are examples of greenhouse gases that trap solar energy. Furthermore, when polar ice caps and sea ice melt, the greenhouse effect is exacerbated.\n",
            "\n",
            "The melting of the polar ice caps causes sea levels to rise. Furthermore, when polar ice caps and sea ice melt, the greenhouse effect is exacerbated. This is because ice reflects 50 to 70 percent of the sun’s rays into space, whereas solar radiation is absorbed when there is no ice. Only 6% of the sun’s radiation is reflected into space by seawater.\n",
            "\n",
            "Greenhouse gases aren’t necessarily harmful. In fact, the greenhouse effect is critical to life on the planet. The sun’s rays would be bounced back into the atmosphere without this effect, freezing the earth and making life impossible. When excessive volumes of greenhouse gases are trapped, however, catastrophic consequences emerge.\n",
            "\n",
            "There are a variety of things going on that are steadily raising the temperature. Our ice glaciers are fast disappearing due to global warming. This is incredibly detrimental to both the environment and people.\n",
            "\n",
            "Global warming will continue to accelerate as long as humans emit greenhouse gases. The implications are being felt on a much smaller scale now, but they will grow more severe in the near future. Humans have the power to save the day; all that is required is for them to grasp it. On an individual basis, energy use should be decreased.\n",
            "\n",
            "Controlling global warming is difficult; yet, it is not impossible. Identifying the problem’s cause is the first step in solving any problem. As a result, we must first comprehend the causes of global warming before moving on with solutions.\n",
            "\n",
            "Global warming has evolved into a serious issue that requires our full attention. It is occurring due to a combination of factors rather than a single cause. These factors are both natural and man-made. The emission of greenhouse gases that are unable to escape from the planet, causing the temperature to rise, is one of the natural causes.\n",
            "\n",
            "Furthermore, volcanic eruptions contribute to global warming. To put it another way, these eruptions spew masses of carbon dioxide into the atmosphere, contributing to global warming. Methane, on the other hand, is a major contributor to global warming.\n",
            "\n",
            "When everyone works together, global warming can be halted. Individuals and governments must both take initiatives toward realizing this goal. We must start by reducing greenhouse gas emissions.\n",
            "\n",
            "Carry your own cloth bag when you go shopping. Another move you can take is to minimize your consumption of power, which will reduce carbon dioxide emissions. Governments must regulate industrial waste and prohibit them from spewing dangerous gases into the atmosphere. Deforestation must be halted quickly, and tree planting promoted.\n",
            "\n",
            "Takshila learning tells you about global warming and the ways to control and take steps to control it. The mentors at Takshila learning are learned people, who encourage aspirants to be aware and put in efforts to save the environment.\n",
            "\n"
          ]
        }
      ],
      "source": [
        "print(text)"
      ]
    },
    {
      "cell_type": "code",
      "execution_count": 192,
      "metadata": {
        "colab": {
          "base_uri": "https://localhost:8080/",
          "height": 122
        },
        "colab_type": "code",
        "id": "no_-dxurKz1c",
        "outputId": "c3207863-71b2-40f0-b613-2694811d7933"
      },
      "outputs": [
        {
          "name": "stdout",
          "output_type": "stream",
          "text": [
            "Furthermore, when polar ice caps and sea ice melt, the greenhouse effect is exacerbated.\n",
            "\n",
            " Furthermore, when polar ice caps and sea ice melt, the greenhouse effect is exacerbated. \n",
            "Global warming is a phenomenon in which the average temperature of the globe rises due to increased greenhouse gas emissions. The emission of greenhouse gases that are unable to escape from the planet, causing the temperature to rise, is one of the natural causes.\n",
            "\n",
            " Global warming will continue to accelerate as long as humans emit greenhouse gases. As a result, we must first comprehend the causes of global warming before moving on with solutions.\n",
            "\n",
            " To put it another way, these eruptions spew masses of carbon dioxide into the atmosphere, contributing to global warming. Methane, on the other hand, is a major contributor to global warming.\n",
            "\n",
            " This is because ice reflects 50 to 70 percent of the sun’s rays into space, whereas solar radiation is absorbed when there is no ice. When excessive volumes of greenhouse gases are trapped, however, catastrophic consequences emerge.\n",
            "\n",
            " Our ice glaciers are fast disappearing due to global warming.\n"
          ]
        }
      ],
      "source": [
        "print(summary)"
      ]
    }
  ],
  "metadata": {
    "colab": {
      "name": "Text_Summarization.ipynb",
      "provenance": []
    },
    "kernelspec": {
      "display_name": "Python 3",
      "language": "python",
      "name": "python3"
    },
    "language_info": {
      "codemirror_mode": {
        "name": "ipython",
        "version": 3
      },
      "file_extension": ".py",
      "mimetype": "text/x-python",
      "name": "python",
      "nbconvert_exporter": "python",
      "pygments_lexer": "ipython3",
      "version": "3.10.1"
    },
    "vscode": {
      "interpreter": {
        "hash": "9b210e4d02918e7d777abd18a0aa8249d38281e60a398658abbffa79f5fae498"
      }
    }
  },
  "nbformat": 4,
  "nbformat_minor": 0
}
